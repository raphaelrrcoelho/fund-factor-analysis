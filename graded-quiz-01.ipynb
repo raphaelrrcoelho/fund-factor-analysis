{
 "cells": [
  {
   "cell_type": "code",
   "execution_count": 99,
   "metadata": {},
   "outputs": [
    {
     "name": "stdout",
     "output_type": "stream",
     "text": [
      "The autoreload extension is already loaded. To reload it, use:\n",
      "  %reload_ext autoreload\n"
     ]
    },
    {
     "name": "stderr",
     "output_type": "stream",
     "text": [
      "/mnt/c/Users/rapha/MEGA/Code/quant-finance/courses/edhec/adv-portconst/edhec_risk_kit_206.py:43: SyntaxWarning: \"is\" with a literal. Did you mean \"==\"?\n",
      "  if filetype is \"returns\":\n",
      "/mnt/c/Users/rapha/MEGA/Code/quant-finance/courses/edhec/adv-portconst/edhec_risk_kit_206.py:46: SyntaxWarning: \"is\" with a literal. Did you mean \"==\"?\n",
      "  elif filetype is \"nfirms\":\n",
      "/mnt/c/Users/rapha/MEGA/Code/quant-finance/courses/edhec/adv-portconst/edhec_risk_kit_206.py:49: SyntaxWarning: \"is\" with a literal. Did you mean \"==\"?\n",
      "  elif filetype is \"size\":\n"
     ]
    }
   ],
   "source": [
    "import numpy as np\n",
    "import pandas as pd\n",
    "\n",
    "import statsmodels.api as sm\n",
    "import numpy as np\n",
    "\n",
    "import edhec_risk_kit_206 as erk\n",
    "\n",
    "%load_ext autoreload\n",
    "%autoreload 2\n"
   ]
  },
  {
   "cell_type": "code",
   "execution_count": 100,
   "metadata": {},
   "outputs": [
    {
     "data": {
      "text/html": [
       "<div>\n",
       "<style scoped>\n",
       "    .dataframe tbody tr th:only-of-type {\n",
       "        vertical-align: middle;\n",
       "    }\n",
       "\n",
       "    .dataframe tbody tr th {\n",
       "        vertical-align: top;\n",
       "    }\n",
       "\n",
       "    .dataframe thead th {\n",
       "        text-align: right;\n",
       "    }\n",
       "</style>\n",
       "<table border=\"1\" class=\"dataframe\">\n",
       "  <thead>\n",
       "    <tr style=\"text-align: right;\">\n",
       "      <th></th>\n",
       "      <th>Agric</th>\n",
       "      <th>Food</th>\n",
       "      <th>Soda</th>\n",
       "      <th>Beer</th>\n",
       "      <th>Smoke</th>\n",
       "      <th>Toys</th>\n",
       "      <th>Fun</th>\n",
       "      <th>Books</th>\n",
       "      <th>Hshld</th>\n",
       "      <th>Clths</th>\n",
       "      <th>...</th>\n",
       "      <th>Boxes</th>\n",
       "      <th>Trans</th>\n",
       "      <th>Whlsl</th>\n",
       "      <th>Rtail</th>\n",
       "      <th>Meals</th>\n",
       "      <th>Banks</th>\n",
       "      <th>Insur</th>\n",
       "      <th>RlEst</th>\n",
       "      <th>Fin</th>\n",
       "      <th>Other</th>\n",
       "    </tr>\n",
       "  </thead>\n",
       "  <tbody>\n",
       "    <tr>\n",
       "      <th>2018-08</th>\n",
       "      <td>0.0715</td>\n",
       "      <td>0.0114</td>\n",
       "      <td>-0.0308</td>\n",
       "      <td>-0.0186</td>\n",
       "      <td>-0.0543</td>\n",
       "      <td>0.0738</td>\n",
       "      <td>0.0250</td>\n",
       "      <td>-0.0463</td>\n",
       "      <td>0.0254</td>\n",
       "      <td>0.0526</td>\n",
       "      <td>...</td>\n",
       "      <td>-0.0062</td>\n",
       "      <td>0.0291</td>\n",
       "      <td>0.0366</td>\n",
       "      <td>0.0911</td>\n",
       "      <td>0.0364</td>\n",
       "      <td>0.0277</td>\n",
       "      <td>0.0352</td>\n",
       "      <td>-0.0423</td>\n",
       "      <td>0.0004</td>\n",
       "      <td>0.0333</td>\n",
       "    </tr>\n",
       "    <tr>\n",
       "      <th>2018-09</th>\n",
       "      <td>-0.0392</td>\n",
       "      <td>-0.0220</td>\n",
       "      <td>0.0310</td>\n",
       "      <td>0.0019</td>\n",
       "      <td>0.0537</td>\n",
       "      <td>0.0717</td>\n",
       "      <td>-0.0075</td>\n",
       "      <td>-0.0209</td>\n",
       "      <td>0.0107</td>\n",
       "      <td>0.0130</td>\n",
       "      <td>...</td>\n",
       "      <td>0.0189</td>\n",
       "      <td>0.0105</td>\n",
       "      <td>-0.0148</td>\n",
       "      <td>0.0061</td>\n",
       "      <td>0.0251</td>\n",
       "      <td>-0.0282</td>\n",
       "      <td>0.0116</td>\n",
       "      <td>-0.0492</td>\n",
       "      <td>-0.0340</td>\n",
       "      <td>0.0068</td>\n",
       "    </tr>\n",
       "    <tr>\n",
       "      <th>2018-10</th>\n",
       "      <td>-0.0197</td>\n",
       "      <td>0.0095</td>\n",
       "      <td>0.0118</td>\n",
       "      <td>-0.0157</td>\n",
       "      <td>0.0790</td>\n",
       "      <td>-0.1504</td>\n",
       "      <td>-0.1605</td>\n",
       "      <td>-0.0569</td>\n",
       "      <td>-0.0051</td>\n",
       "      <td>-0.1014</td>\n",
       "      <td>...</td>\n",
       "      <td>-0.1100</td>\n",
       "      <td>-0.0975</td>\n",
       "      <td>-0.0788</td>\n",
       "      <td>-0.1021</td>\n",
       "      <td>-0.0171</td>\n",
       "      <td>-0.0613</td>\n",
       "      <td>-0.0413</td>\n",
       "      <td>-0.1213</td>\n",
       "      <td>-0.0455</td>\n",
       "      <td>-0.0515</td>\n",
       "    </tr>\n",
       "    <tr>\n",
       "      <th>2018-11</th>\n",
       "      <td>-0.0357</td>\n",
       "      <td>0.0029</td>\n",
       "      <td>0.0684</td>\n",
       "      <td>0.0579</td>\n",
       "      <td>-0.0843</td>\n",
       "      <td>-0.0715</td>\n",
       "      <td>-0.0001</td>\n",
       "      <td>0.0375</td>\n",
       "      <td>0.0644</td>\n",
       "      <td>-0.0099</td>\n",
       "      <td>...</td>\n",
       "      <td>0.1021</td>\n",
       "      <td>0.0617</td>\n",
       "      <td>0.0318</td>\n",
       "      <td>0.0159</td>\n",
       "      <td>0.0616</td>\n",
       "      <td>0.0292</td>\n",
       "      <td>0.0432</td>\n",
       "      <td>0.0715</td>\n",
       "      <td>0.0006</td>\n",
       "      <td>0.0355</td>\n",
       "    </tr>\n",
       "    <tr>\n",
       "      <th>2018-12</th>\n",
       "      <td>-0.1093</td>\n",
       "      <td>-0.1093</td>\n",
       "      <td>-0.0783</td>\n",
       "      <td>-0.0969</td>\n",
       "      <td>-0.1580</td>\n",
       "      <td>-0.1635</td>\n",
       "      <td>-0.0750</td>\n",
       "      <td>-0.1442</td>\n",
       "      <td>-0.0557</td>\n",
       "      <td>-0.0728</td>\n",
       "      <td>...</td>\n",
       "      <td>-0.1248</td>\n",
       "      <td>-0.1519</td>\n",
       "      <td>-0.1121</td>\n",
       "      <td>-0.0919</td>\n",
       "      <td>-0.0628</td>\n",
       "      <td>-0.1279</td>\n",
       "      <td>-0.0985</td>\n",
       "      <td>-0.1172</td>\n",
       "      <td>-0.0874</td>\n",
       "      <td>-0.0654</td>\n",
       "    </tr>\n",
       "  </tbody>\n",
       "</table>\n",
       "<p>5 rows × 49 columns</p>\n",
       "</div>"
      ],
      "text/plain": [
       "          Agric    Food    Soda    Beer   Smoke    Toys     Fun   Books  \\\n",
       "2018-08  0.0715  0.0114 -0.0308 -0.0186 -0.0543  0.0738  0.0250 -0.0463   \n",
       "2018-09 -0.0392 -0.0220  0.0310  0.0019  0.0537  0.0717 -0.0075 -0.0209   \n",
       "2018-10 -0.0197  0.0095  0.0118 -0.0157  0.0790 -0.1504 -0.1605 -0.0569   \n",
       "2018-11 -0.0357  0.0029  0.0684  0.0579 -0.0843 -0.0715 -0.0001  0.0375   \n",
       "2018-12 -0.1093 -0.1093 -0.0783 -0.0969 -0.1580 -0.1635 -0.0750 -0.1442   \n",
       "\n",
       "          Hshld   Clths  ...   Boxes   Trans   Whlsl   Rtail   Meals   Banks  \\\n",
       "2018-08  0.0254  0.0526  ... -0.0062  0.0291  0.0366  0.0911  0.0364  0.0277   \n",
       "2018-09  0.0107  0.0130  ...  0.0189  0.0105 -0.0148  0.0061  0.0251 -0.0282   \n",
       "2018-10 -0.0051 -0.1014  ... -0.1100 -0.0975 -0.0788 -0.1021 -0.0171 -0.0613   \n",
       "2018-11  0.0644 -0.0099  ...  0.1021  0.0617  0.0318  0.0159  0.0616  0.0292   \n",
       "2018-12 -0.0557 -0.0728  ... -0.1248 -0.1519 -0.1121 -0.0919 -0.0628 -0.1279   \n",
       "\n",
       "          Insur   RlEst     Fin   Other  \n",
       "2018-08  0.0352 -0.0423  0.0004  0.0333  \n",
       "2018-09  0.0116 -0.0492 -0.0340  0.0068  \n",
       "2018-10 -0.0413 -0.1213 -0.0455 -0.0515  \n",
       "2018-11  0.0432  0.0715  0.0006  0.0355  \n",
       "2018-12 -0.0985 -0.1172 -0.0874 -0.0654  \n",
       "\n",
       "[5 rows x 49 columns]"
      ]
     },
     "execution_count": 100,
     "metadata": {},
     "output_type": "execute_result"
    }
   ],
   "source": [
    "ind = erk.get_ind_returns(n_inds=49)[\"1991\":]\n",
    "ind.tail()"
   ]
  },
  {
   "cell_type": "code",
   "execution_count": 101,
   "metadata": {},
   "outputs": [
    {
     "data": {
      "text/html": [
       "<div>\n",
       "<style scoped>\n",
       "    .dataframe tbody tr th:only-of-type {\n",
       "        vertical-align: middle;\n",
       "    }\n",
       "\n",
       "    .dataframe tbody tr th {\n",
       "        vertical-align: top;\n",
       "    }\n",
       "\n",
       "    .dataframe thead th {\n",
       "        text-align: right;\n",
       "    }\n",
       "</style>\n",
       "<table border=\"1\" class=\"dataframe\">\n",
       "  <thead>\n",
       "    <tr style=\"text-align: right;\">\n",
       "      <th></th>\n",
       "      <th>Mkt-RF</th>\n",
       "      <th>SMB</th>\n",
       "      <th>HML</th>\n",
       "      <th>RF</th>\n",
       "    </tr>\n",
       "  </thead>\n",
       "  <tbody>\n",
       "    <tr>\n",
       "      <th>2018-08</th>\n",
       "      <td>0.0344</td>\n",
       "      <td>0.0123</td>\n",
       "      <td>-0.0412</td>\n",
       "      <td>0.0016</td>\n",
       "    </tr>\n",
       "    <tr>\n",
       "      <th>2018-09</th>\n",
       "      <td>0.0006</td>\n",
       "      <td>-0.0237</td>\n",
       "      <td>-0.0134</td>\n",
       "      <td>0.0015</td>\n",
       "    </tr>\n",
       "    <tr>\n",
       "      <th>2018-10</th>\n",
       "      <td>-0.0768</td>\n",
       "      <td>-0.0468</td>\n",
       "      <td>0.0341</td>\n",
       "      <td>0.0019</td>\n",
       "    </tr>\n",
       "    <tr>\n",
       "      <th>2018-11</th>\n",
       "      <td>0.0169</td>\n",
       "      <td>-0.0074</td>\n",
       "      <td>0.0020</td>\n",
       "      <td>0.0018</td>\n",
       "    </tr>\n",
       "    <tr>\n",
       "      <th>2018-12</th>\n",
       "      <td>-0.0955</td>\n",
       "      <td>-0.0261</td>\n",
       "      <td>-0.0151</td>\n",
       "      <td>0.0019</td>\n",
       "    </tr>\n",
       "  </tbody>\n",
       "</table>\n",
       "</div>"
      ],
      "text/plain": [
       "         Mkt-RF     SMB     HML      RF\n",
       "2018-08  0.0344  0.0123 -0.0412  0.0016\n",
       "2018-09  0.0006 -0.0237 -0.0134  0.0015\n",
       "2018-10 -0.0768 -0.0468  0.0341  0.0019\n",
       "2018-11  0.0169 -0.0074  0.0020  0.0018\n",
       "2018-12 -0.0955 -0.0261 -0.0151  0.0019"
      ]
     },
     "execution_count": 101,
     "metadata": {},
     "output_type": "execute_result"
    }
   ],
   "source": [
    "fff = erk.get_fff_returns()\n",
    "fff.tail()"
   ]
  },
  {
   "cell_type": "code",
   "execution_count": 102,
   "metadata": {},
   "outputs": [],
   "source": [
    "industry = 'Beer'\n",
    "\n",
    "ind_excess = ind[[industry]]['1991':'2018-12'] - fff.loc['1991':'2018-12', ['RF']].values\n",
    "mkt_excess = fff.loc[\"1991\":'2018-12',['Mkt-RF']]\n",
    "exp_var = mkt_excess.copy()\n",
    "exp_var[\"Constant\"] = 1\n",
    "lm = sm.OLS(ind_excess, exp_var).fit()"
   ]
  },
  {
   "cell_type": "code",
   "execution_count": 103,
   "metadata": {},
   "outputs": [
    {
     "data": {
      "text/html": [
       "<table class=\"simpletable\">\n",
       "<caption>OLS Regression Results</caption>\n",
       "<tr>\n",
       "  <th>Dep. Variable:</th>          <td>Beer</td>       <th>  R-squared:         </th> <td>   0.226</td>\n",
       "</tr>\n",
       "<tr>\n",
       "  <th>Model:</th>                   <td>OLS</td>       <th>  Adj. R-squared:    </th> <td>   0.224</td>\n",
       "</tr>\n",
       "<tr>\n",
       "  <th>Method:</th>             <td>Least Squares</td>  <th>  F-statistic:       </th> <td>   97.55</td>\n",
       "</tr>\n",
       "<tr>\n",
       "  <th>Date:</th>             <td>Mon, 07 Mar 2022</td> <th>  Prob (F-statistic):</th> <td>2.37e-20</td>\n",
       "</tr>\n",
       "<tr>\n",
       "  <th>Time:</th>                 <td>14:07:47</td>     <th>  Log-Likelihood:    </th> <td>  596.94</td>\n",
       "</tr>\n",
       "<tr>\n",
       "  <th>No. Observations:</th>      <td>   336</td>      <th>  AIC:               </th> <td>  -1190.</td>\n",
       "</tr>\n",
       "<tr>\n",
       "  <th>Df Residuals:</th>          <td>   334</td>      <th>  BIC:               </th> <td>  -1182.</td>\n",
       "</tr>\n",
       "<tr>\n",
       "  <th>Df Model:</th>              <td>     1</td>      <th>                     </th>     <td> </td>   \n",
       "</tr>\n",
       "<tr>\n",
       "  <th>Covariance Type:</th>      <td>nonrobust</td>    <th>                     </th>     <td> </td>   \n",
       "</tr>\n",
       "</table>\n",
       "<table class=\"simpletable\">\n",
       "<tr>\n",
       "      <td></td>        <th>coef</th>     <th>std err</th>      <th>t</th>      <th>P>|t|</th>  <th>[0.025</th>    <th>0.975]</th>  \n",
       "</tr>\n",
       "<tr>\n",
       "  <th>Mkt-RF</th>   <td>    0.5295</td> <td>    0.054</td> <td>    9.877</td> <td> 0.000</td> <td>    0.424</td> <td>    0.635</td>\n",
       "</tr>\n",
       "<tr>\n",
       "  <th>Constant</th> <td>    0.0043</td> <td>    0.002</td> <td>    1.892</td> <td> 0.059</td> <td>   -0.000</td> <td>    0.009</td>\n",
       "</tr>\n",
       "</table>\n",
       "<table class=\"simpletable\">\n",
       "<tr>\n",
       "  <th>Omnibus:</th>       <td>20.697</td> <th>  Durbin-Watson:     </th> <td>   2.079</td>\n",
       "</tr>\n",
       "<tr>\n",
       "  <th>Prob(Omnibus):</th> <td> 0.000</td> <th>  Jarque-Bera (JB):  </th> <td>  43.130</td>\n",
       "</tr>\n",
       "<tr>\n",
       "  <th>Skew:</th>          <td>-0.314</td> <th>  Prob(JB):          </th> <td>4.31e-10</td>\n",
       "</tr>\n",
       "<tr>\n",
       "  <th>Kurtosis:</th>      <td> 4.639</td> <th>  Cond. No.          </th> <td>    23.9</td>\n",
       "</tr>\n",
       "</table><br/><br/>Notes:<br/>[1] Standard Errors assume that the covariance matrix of the errors is correctly specified."
      ],
      "text/plain": [
       "<class 'statsmodels.iolib.summary.Summary'>\n",
       "\"\"\"\n",
       "                            OLS Regression Results                            \n",
       "==============================================================================\n",
       "Dep. Variable:                   Beer   R-squared:                       0.226\n",
       "Model:                            OLS   Adj. R-squared:                  0.224\n",
       "Method:                 Least Squares   F-statistic:                     97.55\n",
       "Date:                Mon, 07 Mar 2022   Prob (F-statistic):           2.37e-20\n",
       "Time:                        14:07:47   Log-Likelihood:                 596.94\n",
       "No. Observations:                 336   AIC:                            -1190.\n",
       "Df Residuals:                     334   BIC:                            -1182.\n",
       "Df Model:                           1                                         \n",
       "Covariance Type:            nonrobust                                         \n",
       "==============================================================================\n",
       "                 coef    std err          t      P>|t|      [0.025      0.975]\n",
       "------------------------------------------------------------------------------\n",
       "Mkt-RF         0.5295      0.054      9.877      0.000       0.424       0.635\n",
       "Constant       0.0043      0.002      1.892      0.059      -0.000       0.009\n",
       "==============================================================================\n",
       "Omnibus:                       20.697   Durbin-Watson:                   2.079\n",
       "Prob(Omnibus):                  0.000   Jarque-Bera (JB):               43.130\n",
       "Skew:                          -0.314   Prob(JB):                     4.31e-10\n",
       "Kurtosis:                       4.639   Cond. No.                         23.9\n",
       "==============================================================================\n",
       "\n",
       "Notes:\n",
       "[1] Standard Errors assume that the covariance matrix of the errors is correctly specified.\n",
       "\"\"\""
      ]
     },
     "execution_count": 103,
     "metadata": {},
     "output_type": "execute_result"
    }
   ],
   "source": [
    "lm.summary()"
   ]
  },
  {
   "cell_type": "code",
   "execution_count": 109,
   "metadata": {},
   "outputs": [],
   "source": [
    "industry = 'Steel'\n",
    "\n",
    "ind_excess = ind[[industry]]['1991':'2018-12'] - fff.loc['1991':'2018-12', ['RF']].values\n",
    "mkt_excess = fff.loc[\"1991\":'2018-12',['Mkt-RF']]\n",
    "exp_var = mkt_excess.copy()\n",
    "exp_var[\"Constant\"] = 1\n",
    "lm = sm.OLS(ind_excess, exp_var).fit()"
   ]
  },
  {
   "cell_type": "code",
   "execution_count": 110,
   "metadata": {},
   "outputs": [
    {
     "data": {
      "text/html": [
       "<table class=\"simpletable\">\n",
       "<caption>OLS Regression Results</caption>\n",
       "<tr>\n",
       "  <th>Dep. Variable:</th>          <td>Steel</td>      <th>  R-squared:         </th> <td>   0.631</td>\n",
       "</tr>\n",
       "<tr>\n",
       "  <th>Model:</th>                   <td>OLS</td>       <th>  Adj. R-squared:    </th> <td>   0.630</td>\n",
       "</tr>\n",
       "<tr>\n",
       "  <th>Method:</th>             <td>Least Squares</td>  <th>  F-statistic:       </th> <td>   572.0</td>\n",
       "</tr>\n",
       "<tr>\n",
       "  <th>Date:</th>             <td>Mon, 07 Mar 2022</td> <th>  Prob (F-statistic):</th> <td>2.29e-74</td>\n",
       "</tr>\n",
       "<tr>\n",
       "  <th>Time:</th>                 <td>14:09:42</td>     <th>  Log-Likelihood:    </th> <td>  532.25</td>\n",
       "</tr>\n",
       "<tr>\n",
       "  <th>No. Observations:</th>      <td>   336</td>      <th>  AIC:               </th> <td>  -1061.</td>\n",
       "</tr>\n",
       "<tr>\n",
       "  <th>Df Residuals:</th>          <td>   334</td>      <th>  BIC:               </th> <td>  -1053.</td>\n",
       "</tr>\n",
       "<tr>\n",
       "  <th>Df Model:</th>              <td>     1</td>      <th>                     </th>     <td> </td>   \n",
       "</tr>\n",
       "<tr>\n",
       "  <th>Covariance Type:</th>      <td>nonrobust</td>    <th>                     </th>     <td> </td>   \n",
       "</tr>\n",
       "</table>\n",
       "<table class=\"simpletable\">\n",
       "<tr>\n",
       "      <td></td>        <th>coef</th>     <th>std err</th>      <th>t</th>      <th>P>|t|</th>  <th>[0.025</th>    <th>0.975]</th>  \n",
       "</tr>\n",
       "<tr>\n",
       "  <th>Mkt-RF</th>   <td>    1.5546</td> <td>    0.065</td> <td>   23.917</td> <td> 0.000</td> <td>    1.427</td> <td>    1.682</td>\n",
       "</tr>\n",
       "<tr>\n",
       "  <th>Constant</th> <td>   -0.0055</td> <td>    0.003</td> <td>   -2.014</td> <td> 0.045</td> <td>   -0.011</td> <td>   -0.000</td>\n",
       "</tr>\n",
       "</table>\n",
       "<table class=\"simpletable\">\n",
       "<tr>\n",
       "  <th>Omnibus:</th>       <td>24.614</td> <th>  Durbin-Watson:     </th> <td>   2.016</td>\n",
       "</tr>\n",
       "<tr>\n",
       "  <th>Prob(Omnibus):</th> <td> 0.000</td> <th>  Jarque-Bera (JB):  </th> <td>  42.413</td>\n",
       "</tr>\n",
       "<tr>\n",
       "  <th>Skew:</th>          <td> 0.456</td> <th>  Prob(JB):          </th> <td>6.17e-10</td>\n",
       "</tr>\n",
       "<tr>\n",
       "  <th>Kurtosis:</th>      <td> 4.482</td> <th>  Cond. No.          </th> <td>    23.9</td>\n",
       "</tr>\n",
       "</table><br/><br/>Notes:<br/>[1] Standard Errors assume that the covariance matrix of the errors is correctly specified."
      ],
      "text/plain": [
       "<class 'statsmodels.iolib.summary.Summary'>\n",
       "\"\"\"\n",
       "                            OLS Regression Results                            \n",
       "==============================================================================\n",
       "Dep. Variable:                  Steel   R-squared:                       0.631\n",
       "Model:                            OLS   Adj. R-squared:                  0.630\n",
       "Method:                 Least Squares   F-statistic:                     572.0\n",
       "Date:                Mon, 07 Mar 2022   Prob (F-statistic):           2.29e-74\n",
       "Time:                        14:09:42   Log-Likelihood:                 532.25\n",
       "No. Observations:                 336   AIC:                            -1061.\n",
       "Df Residuals:                     334   BIC:                            -1053.\n",
       "Df Model:                           1                                         \n",
       "Covariance Type:            nonrobust                                         \n",
       "==============================================================================\n",
       "                 coef    std err          t      P>|t|      [0.025      0.975]\n",
       "------------------------------------------------------------------------------\n",
       "Mkt-RF         1.5546      0.065     23.917      0.000       1.427       1.682\n",
       "Constant      -0.0055      0.003     -2.014      0.045      -0.011      -0.000\n",
       "==============================================================================\n",
       "Omnibus:                       24.614   Durbin-Watson:                   2.016\n",
       "Prob(Omnibus):                  0.000   Jarque-Bera (JB):               42.413\n",
       "Skew:                           0.456   Prob(JB):                     6.17e-10\n",
       "Kurtosis:                       4.482   Cond. No.                         23.9\n",
       "==============================================================================\n",
       "\n",
       "Notes:\n",
       "[1] Standard Errors assume that the covariance matrix of the errors is correctly specified.\n",
       "\"\"\""
      ]
     },
     "execution_count": 110,
     "metadata": {},
     "output_type": "execute_result"
    }
   ],
   "source": [
    "lm.summary()"
   ]
  },
  {
   "cell_type": "code",
   "execution_count": 111,
   "metadata": {},
   "outputs": [],
   "source": [
    "industry = 'Beer'\n",
    "\n",
    "ind_excess = ind[[industry]]['2013':'2018-12'] - fff.loc['2013':'2018-12', ['RF']].values\n",
    "mkt_excess = fff.loc[\"2013\":'2018-12',['Mkt-RF']]\n",
    "exp_var = mkt_excess.copy()\n",
    "exp_var[\"Constant\"] = 1\n",
    "lm = sm.OLS(ind_excess, exp_var).fit()"
   ]
  },
  {
   "cell_type": "code",
   "execution_count": 112,
   "metadata": {},
   "outputs": [
    {
     "data": {
      "text/html": [
       "<table class=\"simpletable\">\n",
       "<caption>OLS Regression Results</caption>\n",
       "<tr>\n",
       "  <th>Dep. Variable:</th>          <td>Beer</td>       <th>  R-squared:         </th> <td>   0.313</td>\n",
       "</tr>\n",
       "<tr>\n",
       "  <th>Model:</th>                   <td>OLS</td>       <th>  Adj. R-squared:    </th> <td>   0.303</td>\n",
       "</tr>\n",
       "<tr>\n",
       "  <th>Method:</th>             <td>Least Squares</td>  <th>  F-statistic:       </th> <td>   31.87</td>\n",
       "</tr>\n",
       "<tr>\n",
       "  <th>Date:</th>             <td>Mon, 07 Mar 2022</td> <th>  Prob (F-statistic):</th> <td>3.27e-07</td>\n",
       "</tr>\n",
       "<tr>\n",
       "  <th>Time:</th>                 <td>14:10:27</td>     <th>  Log-Likelihood:    </th> <td>  155.66</td>\n",
       "</tr>\n",
       "<tr>\n",
       "  <th>No. Observations:</th>      <td>    72</td>      <th>  AIC:               </th> <td>  -307.3</td>\n",
       "</tr>\n",
       "<tr>\n",
       "  <th>Df Residuals:</th>          <td>    70</td>      <th>  BIC:               </th> <td>  -302.8</td>\n",
       "</tr>\n",
       "<tr>\n",
       "  <th>Df Model:</th>              <td>     1</td>      <th>                     </th>     <td> </td>   \n",
       "</tr>\n",
       "<tr>\n",
       "  <th>Covariance Type:</th>      <td>nonrobust</td>    <th>                     </th>     <td> </td>   \n",
       "</tr>\n",
       "</table>\n",
       "<table class=\"simpletable\">\n",
       "<tr>\n",
       "      <td></td>        <th>coef</th>     <th>std err</th>      <th>t</th>      <th>P>|t|</th>  <th>[0.025</th>    <th>0.975]</th>  \n",
       "</tr>\n",
       "<tr>\n",
       "  <th>Mkt-RF</th>   <td>    0.5860</td> <td>    0.104</td> <td>    5.645</td> <td> 0.000</td> <td>    0.379</td> <td>    0.793</td>\n",
       "</tr>\n",
       "<tr>\n",
       "  <th>Constant</th> <td>    0.0045</td> <td>    0.003</td> <td>    1.289</td> <td> 0.201</td> <td>   -0.002</td> <td>    0.011</td>\n",
       "</tr>\n",
       "</table>\n",
       "<table class=\"simpletable\">\n",
       "<tr>\n",
       "  <th>Omnibus:</th>       <td> 5.069</td> <th>  Durbin-Watson:     </th> <td>   2.196</td>\n",
       "</tr>\n",
       "<tr>\n",
       "  <th>Prob(Omnibus):</th> <td> 0.079</td> <th>  Jarque-Bera (JB):  </th> <td>   4.535</td>\n",
       "</tr>\n",
       "<tr>\n",
       "  <th>Skew:</th>          <td>-0.610</td> <th>  Prob(JB):          </th> <td>   0.104</td>\n",
       "</tr>\n",
       "<tr>\n",
       "  <th>Kurtosis:</th>      <td> 3.155</td> <th>  Cond. No.          </th> <td>    31.2</td>\n",
       "</tr>\n",
       "</table><br/><br/>Notes:<br/>[1] Standard Errors assume that the covariance matrix of the errors is correctly specified."
      ],
      "text/plain": [
       "<class 'statsmodels.iolib.summary.Summary'>\n",
       "\"\"\"\n",
       "                            OLS Regression Results                            \n",
       "==============================================================================\n",
       "Dep. Variable:                   Beer   R-squared:                       0.313\n",
       "Model:                            OLS   Adj. R-squared:                  0.303\n",
       "Method:                 Least Squares   F-statistic:                     31.87\n",
       "Date:                Mon, 07 Mar 2022   Prob (F-statistic):           3.27e-07\n",
       "Time:                        14:10:27   Log-Likelihood:                 155.66\n",
       "No. Observations:                  72   AIC:                            -307.3\n",
       "Df Residuals:                      70   BIC:                            -302.8\n",
       "Df Model:                           1                                         \n",
       "Covariance Type:            nonrobust                                         \n",
       "==============================================================================\n",
       "                 coef    std err          t      P>|t|      [0.025      0.975]\n",
       "------------------------------------------------------------------------------\n",
       "Mkt-RF         0.5860      0.104      5.645      0.000       0.379       0.793\n",
       "Constant       0.0045      0.003      1.289      0.201      -0.002       0.011\n",
       "==============================================================================\n",
       "Omnibus:                        5.069   Durbin-Watson:                   2.196\n",
       "Prob(Omnibus):                  0.079   Jarque-Bera (JB):                4.535\n",
       "Skew:                          -0.610   Prob(JB):                        0.104\n",
       "Kurtosis:                       3.155   Cond. No.                         31.2\n",
       "==============================================================================\n",
       "\n",
       "Notes:\n",
       "[1] Standard Errors assume that the covariance matrix of the errors is correctly specified.\n",
       "\"\"\""
      ]
     },
     "execution_count": 112,
     "metadata": {},
     "output_type": "execute_result"
    }
   ],
   "source": [
    "lm.summary()"
   ]
  },
  {
   "cell_type": "code",
   "execution_count": 113,
   "metadata": {},
   "outputs": [],
   "source": [
    "industry = 'Steel'\n",
    "\n",
    "ind_excess = ind[[industry]]['2013':'2018-12'] - fff.loc['2013':'2018-12', ['RF']].values\n",
    "mkt_excess = fff.loc[\"2013\":'2018-12',['Mkt-RF']]\n",
    "exp_var = mkt_excess.copy()\n",
    "exp_var[\"Constant\"] = 1\n",
    "lm = sm.OLS(ind_excess, exp_var).fit()"
   ]
  },
  {
   "cell_type": "code",
   "execution_count": 114,
   "metadata": {},
   "outputs": [
    {
     "data": {
      "text/html": [
       "<table class=\"simpletable\">\n",
       "<caption>OLS Regression Results</caption>\n",
       "<tr>\n",
       "  <th>Dep. Variable:</th>          <td>Steel</td>      <th>  R-squared:         </th> <td>   0.470</td>\n",
       "</tr>\n",
       "<tr>\n",
       "  <th>Model:</th>                   <td>OLS</td>       <th>  Adj. R-squared:    </th> <td>   0.463</td>\n",
       "</tr>\n",
       "<tr>\n",
       "  <th>Method:</th>             <td>Least Squares</td>  <th>  F-statistic:       </th> <td>   62.18</td>\n",
       "</tr>\n",
       "<tr>\n",
       "  <th>Date:</th>             <td>Mon, 07 Mar 2022</td> <th>  Prob (F-statistic):</th> <td>2.97e-11</td>\n",
       "</tr>\n",
       "<tr>\n",
       "  <th>Time:</th>                 <td>14:10:39</td>     <th>  Log-Likelihood:    </th> <td>  116.15</td>\n",
       "</tr>\n",
       "<tr>\n",
       "  <th>No. Observations:</th>      <td>    72</td>      <th>  AIC:               </th> <td>  -228.3</td>\n",
       "</tr>\n",
       "<tr>\n",
       "  <th>Df Residuals:</th>          <td>    70</td>      <th>  BIC:               </th> <td>  -223.7</td>\n",
       "</tr>\n",
       "<tr>\n",
       "  <th>Df Model:</th>              <td>     1</td>      <th>                     </th>     <td> </td>   \n",
       "</tr>\n",
       "<tr>\n",
       "  <th>Covariance Type:</th>      <td>nonrobust</td>    <th>                     </th>     <td> </td>   \n",
       "</tr>\n",
       "</table>\n",
       "<table class=\"simpletable\">\n",
       "<tr>\n",
       "      <td></td>        <th>coef</th>     <th>std err</th>      <th>t</th>      <th>P>|t|</th>  <th>[0.025</th>    <th>0.975]</th>  \n",
       "</tr>\n",
       "<tr>\n",
       "  <th>Mkt-RF</th>   <td>    1.4169</td> <td>    0.180</td> <td>    7.885</td> <td> 0.000</td> <td>    1.059</td> <td>    1.775</td>\n",
       "</tr>\n",
       "<tr>\n",
       "  <th>Constant</th> <td>   -0.0098</td> <td>    0.006</td> <td>   -1.627</td> <td> 0.108</td> <td>   -0.022</td> <td>    0.002</td>\n",
       "</tr>\n",
       "</table>\n",
       "<table class=\"simpletable\">\n",
       "<tr>\n",
       "  <th>Omnibus:</th>       <td> 7.128</td> <th>  Durbin-Watson:     </th> <td>   2.188</td>\n",
       "</tr>\n",
       "<tr>\n",
       "  <th>Prob(Omnibus):</th> <td> 0.028</td> <th>  Jarque-Bera (JB):  </th> <td>   6.420</td>\n",
       "</tr>\n",
       "<tr>\n",
       "  <th>Skew:</th>          <td> 0.635</td> <th>  Prob(JB):          </th> <td>  0.0403</td>\n",
       "</tr>\n",
       "<tr>\n",
       "  <th>Kurtosis:</th>      <td> 3.727</td> <th>  Cond. No.          </th> <td>    31.2</td>\n",
       "</tr>\n",
       "</table><br/><br/>Notes:<br/>[1] Standard Errors assume that the covariance matrix of the errors is correctly specified."
      ],
      "text/plain": [
       "<class 'statsmodels.iolib.summary.Summary'>\n",
       "\"\"\"\n",
       "                            OLS Regression Results                            \n",
       "==============================================================================\n",
       "Dep. Variable:                  Steel   R-squared:                       0.470\n",
       "Model:                            OLS   Adj. R-squared:                  0.463\n",
       "Method:                 Least Squares   F-statistic:                     62.18\n",
       "Date:                Mon, 07 Mar 2022   Prob (F-statistic):           2.97e-11\n",
       "Time:                        14:10:39   Log-Likelihood:                 116.15\n",
       "No. Observations:                  72   AIC:                            -228.3\n",
       "Df Residuals:                      70   BIC:                            -223.7\n",
       "Df Model:                           1                                         \n",
       "Covariance Type:            nonrobust                                         \n",
       "==============================================================================\n",
       "                 coef    std err          t      P>|t|      [0.025      0.975]\n",
       "------------------------------------------------------------------------------\n",
       "Mkt-RF         1.4169      0.180      7.885      0.000       1.059       1.775\n",
       "Constant      -0.0098      0.006     -1.627      0.108      -0.022       0.002\n",
       "==============================================================================\n",
       "Omnibus:                        7.128   Durbin-Watson:                   2.188\n",
       "Prob(Omnibus):                  0.028   Jarque-Bera (JB):                6.420\n",
       "Skew:                           0.635   Prob(JB):                       0.0403\n",
       "Kurtosis:                       3.727   Cond. No.                         31.2\n",
       "==============================================================================\n",
       "\n",
       "Notes:\n",
       "[1] Standard Errors assume that the covariance matrix of the errors is correctly specified.\n",
       "\"\"\""
      ]
     },
     "execution_count": 114,
     "metadata": {},
     "output_type": "execute_result"
    }
   ],
   "source": [
    "lm.summary()"
   ]
  },
  {
   "cell_type": "code",
   "execution_count": 115,
   "metadata": {},
   "outputs": [],
   "source": [
    "ind_excess = ind['1991':'1993'] - fff.loc['1991':'1993', ['RF']].values\n",
    "mkt_excess = fff.loc[\"1991\":'1993',['Mkt-RF']]\n",
    "exp_var = mkt_excess.copy()\n",
    "exp_var[\"Constant\"] = 1\n",
    "lm = sm.OLS(ind_excess, exp_var).fit()"
   ]
  },
  {
   "cell_type": "code",
   "execution_count": 116,
   "metadata": {},
   "outputs": [],
   "source": [
    "results = lm.params\n",
    "results.columns = ind.columns"
   ]
  },
  {
   "cell_type": "code",
   "execution_count": 117,
   "metadata": {},
   "outputs": [
    {
     "data": {
      "text/html": [
       "<div>\n",
       "<style scoped>\n",
       "    .dataframe tbody tr th:only-of-type {\n",
       "        vertical-align: middle;\n",
       "    }\n",
       "\n",
       "    .dataframe tbody tr th {\n",
       "        vertical-align: top;\n",
       "    }\n",
       "\n",
       "    .dataframe thead th {\n",
       "        text-align: right;\n",
       "    }\n",
       "</style>\n",
       "<table border=\"1\" class=\"dataframe\">\n",
       "  <thead>\n",
       "    <tr style=\"text-align: right;\">\n",
       "      <th></th>\n",
       "      <th>Hlth</th>\n",
       "      <th>Softw</th>\n",
       "      <th>Cnstr</th>\n",
       "      <th>Clths</th>\n",
       "      <th>MedEq</th>\n",
       "      <th>Other</th>\n",
       "      <th>Banks</th>\n",
       "      <th>Smoke</th>\n",
       "      <th>Soda</th>\n",
       "      <th>Chips</th>\n",
       "      <th>...</th>\n",
       "      <th>Paper</th>\n",
       "      <th>Telcm</th>\n",
       "      <th>Boxes</th>\n",
       "      <th>RlEst</th>\n",
       "      <th>Guns</th>\n",
       "      <th>Oil</th>\n",
       "      <th>Coal</th>\n",
       "      <th>Util</th>\n",
       "      <th>Mines</th>\n",
       "      <th>Gold</th>\n",
       "    </tr>\n",
       "  </thead>\n",
       "  <tbody>\n",
       "    <tr>\n",
       "      <th>Mkt-RF</th>\n",
       "      <td>1.615195</td>\n",
       "      <td>1.608340</td>\n",
       "      <td>1.520882</td>\n",
       "      <td>1.516927</td>\n",
       "      <td>1.473925</td>\n",
       "      <td>1.454826</td>\n",
       "      <td>1.359233</td>\n",
       "      <td>1.323776</td>\n",
       "      <td>1.319035</td>\n",
       "      <td>1.272863</td>\n",
       "      <td>...</td>\n",
       "      <td>0.717202</td>\n",
       "      <td>0.715867</td>\n",
       "      <td>0.633817</td>\n",
       "      <td>0.599248</td>\n",
       "      <td>0.561699</td>\n",
       "      <td>0.550604</td>\n",
       "      <td>0.529958</td>\n",
       "      <td>0.379527</td>\n",
       "      <td>0.274762</td>\n",
       "      <td>-0.553289</td>\n",
       "    </tr>\n",
       "    <tr>\n",
       "      <th>Constant</th>\n",
       "      <td>-0.005447</td>\n",
       "      <td>0.005535</td>\n",
       "      <td>-0.011798</td>\n",
       "      <td>-0.004446</td>\n",
       "      <td>-0.010816</td>\n",
       "      <td>-0.018455</td>\n",
       "      <td>0.007439</td>\n",
       "      <td>-0.018946</td>\n",
       "      <td>-0.006793</td>\n",
       "      <td>0.010627</td>\n",
       "      <td>...</td>\n",
       "      <td>-0.001017</td>\n",
       "      <td>0.003162</td>\n",
       "      <td>0.003219</td>\n",
       "      <td>0.006205</td>\n",
       "      <td>0.007671</td>\n",
       "      <td>-0.001922</td>\n",
       "      <td>-0.009163</td>\n",
       "      <td>0.004555</td>\n",
       "      <td>0.014275</td>\n",
       "      <td>0.010849</td>\n",
       "    </tr>\n",
       "  </tbody>\n",
       "</table>\n",
       "<p>2 rows × 49 columns</p>\n",
       "</div>"
      ],
      "text/plain": [
       "              Hlth     Softw     Cnstr     Clths     MedEq     Other  \\\n",
       "Mkt-RF    1.615195  1.608340  1.520882  1.516927  1.473925  1.454826   \n",
       "Constant -0.005447  0.005535 -0.011798 -0.004446 -0.010816 -0.018455   \n",
       "\n",
       "             Banks     Smoke      Soda     Chips  ...     Paper     Telcm  \\\n",
       "Mkt-RF    1.359233  1.323776  1.319035  1.272863  ...  0.717202  0.715867   \n",
       "Constant  0.007439 -0.018946 -0.006793  0.010627  ... -0.001017  0.003162   \n",
       "\n",
       "             Boxes     RlEst      Guns       Oil      Coal      Util  \\\n",
       "Mkt-RF    0.633817  0.599248  0.561699  0.550604  0.529958  0.379527   \n",
       "Constant  0.003219  0.006205  0.007671 -0.001922 -0.009163  0.004555   \n",
       "\n",
       "             Mines      Gold  \n",
       "Mkt-RF    0.274762 -0.553289  \n",
       "Constant  0.014275  0.010849  \n",
       "\n",
       "[2 rows x 49 columns]"
      ]
     },
     "execution_count": 117,
     "metadata": {},
     "output_type": "execute_result"
    }
   ],
   "source": [
    "results.sort_values(by='Mkt-RF', axis=1, ascending=False)"
   ]
  },
  {
   "cell_type": "code",
   "execution_count": 131,
   "metadata": {},
   "outputs": [],
   "source": [
    "ind_excess = ind['1991':'2018'] - fff.loc['1991':'2018', ['RF']].values\n",
    "mkt_excess = fff.loc[\"1991\":'2018',['Mkt-RF']]\n",
    "exp_var = mkt_excess.copy()\n",
    "exp_var[\"Constant\"] = 1\n",
    "\n",
    "exp_var[\"Value\"] = fff.loc[\"1991\":\"2018\",['HML']]\n",
    "exp_var[\"Size\"] = fff.loc[\"1991\":\"2018\",['SMB']]"
   ]
  },
  {
   "cell_type": "code",
   "execution_count": 132,
   "metadata": {},
   "outputs": [],
   "source": [
    "lm = sm.OLS(ind_excess, exp_var).fit()"
   ]
  },
  {
   "cell_type": "code",
   "execution_count": 133,
   "metadata": {},
   "outputs": [],
   "source": [
    "results = lm.params\n",
    "results.columns = ind.columns"
   ]
  },
  {
   "cell_type": "code",
   "execution_count": 134,
   "metadata": {},
   "outputs": [
    {
     "data": {
      "text/plain": [
       "Beer    -0.358655\n",
       "Drugs   -0.319486\n",
       "Smoke   -0.307794\n",
       "Food    -0.267873\n",
       "Insur   -0.251649\n",
       "Telcm   -0.194233\n",
       "Banks   -0.188034\n",
       "Util    -0.176927\n",
       "Hshld   -0.171127\n",
       "Aero    -0.141608\n",
       "Soda    -0.121587\n",
       "Meals   -0.094673\n",
       "Rtail   -0.041055\n",
       "Paper   -0.029786\n",
       "Chems   -0.024151\n",
       "ElcEq   -0.024050\n",
       "Other   -0.019304\n",
       "Oil     -0.015416\n",
       "Guns    -0.007007\n",
       "Boxes   -0.000577\n",
       "Trans    0.031009\n",
       "Clths    0.057455\n",
       "Softw    0.066100\n",
       "Fin      0.121906\n",
       "MedEq    0.125676\n",
       "Books    0.137026\n",
       "Agric    0.165856\n",
       "Ships    0.167156\n",
       "BldMt    0.195020\n",
       "Hardw    0.197752\n",
       "BusSv    0.200393\n",
       "Autos    0.206325\n",
       "Hlth     0.234674\n",
       "Whlsl    0.265499\n",
       "Mines    0.267865\n",
       "PerSv    0.273150\n",
       "Fun      0.281732\n",
       "Gold     0.289094\n",
       "Chips    0.319935\n",
       "Toys     0.329862\n",
       "Mach     0.353644\n",
       "Cnstr    0.408917\n",
       "Rubbr    0.448314\n",
       "LabEq    0.465178\n",
       "Steel    0.493311\n",
       "Coal     0.534373\n",
       "Txtls    0.535961\n",
       "RlEst    0.687456\n",
       "FabPr    0.688508\n",
       "Name: Size, dtype: float64"
      ]
     },
     "execution_count": 134,
     "metadata": {},
     "output_type": "execute_result"
    }
   ],
   "source": [
    "results.loc['Size'].sort_values()"
   ]
  },
  {
   "cell_type": "code",
   "execution_count": 135,
   "metadata": {},
   "outputs": [
    {
     "data": {
      "text/plain": [
       "Softw   -0.852422\n",
       "Hardw   -0.690417\n",
       "Chips   -0.600139\n",
       "LabEq   -0.261102\n",
       "Drugs   -0.228132\n",
       "Telcm   -0.050983\n",
       "MedEq   -0.045616\n",
       "BusSv   -0.023917\n",
       "Beer     0.006329\n",
       "Rtail    0.021793\n",
       "Gold     0.123336\n",
       "Hshld    0.125855\n",
       "Agric    0.131897\n",
       "ElcEq    0.132064\n",
       "Food     0.156536\n",
       "Fin      0.239309\n",
       "Meals    0.259776\n",
       "Smoke    0.266018\n",
       "Other    0.283131\n",
       "Boxes    0.283365\n",
       "Whlsl    0.286591\n",
       "Util     0.294311\n",
       "Mach     0.302361\n",
       "Fun      0.310497\n",
       "Steel    0.318073\n",
       "Clths    0.345496\n",
       "PerSv    0.356625\n",
       "Soda     0.397642\n",
       "Oil      0.421705\n",
       "Toys     0.423761\n",
       "Aero     0.429772\n",
       "Trans    0.432217\n",
       "Books    0.435918\n",
       "Chems    0.459268\n",
       "Paper    0.466115\n",
       "Rubbr    0.466929\n",
       "Hlth     0.488236\n",
       "FabPr    0.490916\n",
       "Coal     0.497821\n",
       "Mines    0.565671\n",
       "Insur    0.570370\n",
       "Guns     0.591323\n",
       "Cnstr    0.607808\n",
       "BldMt    0.608665\n",
       "Ships    0.773196\n",
       "Autos    0.797194\n",
       "Banks    0.839294\n",
       "RlEst    0.896931\n",
       "Txtls    0.983560\n",
       "Name: Value, dtype: float64"
      ]
     },
     "execution_count": 135,
     "metadata": {},
     "output_type": "execute_result"
    }
   ],
   "source": [
    "results.loc['Value'].sort_values()"
   ]
  },
  {
   "cell_type": "markdown",
   "metadata": {},
   "source": [
    "Now, assume we knew absolutely nothing about this manager and all we observed was the returns. How could we tell what she was invested in?"
   ]
  },
  {
   "cell_type": "code",
   "execution_count": null,
   "metadata": {},
   "outputs": [],
   "source": []
  },
  {
   "cell_type": "code",
   "execution_count": 4,
   "metadata": {},
   "outputs": [],
   "source": [
    "weights = erk.style_analysis(mgr_r, ind)*100"
   ]
  },
  {
   "cell_type": "code",
   "execution_count": 5,
   "metadata": {},
   "outputs": [
    {
     "data": {
      "text/plain": [
       "<matplotlib.axes._subplots.AxesSubplot at 0x7fcec1f82e80>"
      ]
     },
     "execution_count": 5,
     "metadata": {},
     "output_type": "execute_result"
    },
    {
     "data": {
      "image/png": "[encoded data removed]",
      "text/plain": [
       "<Figure size 432x288 with 1 Axes>"
      ]
     },
     "metadata": {
      "needs_background": "light"
     },
     "output_type": "display_data"
    }
   ],
   "source": [
    "weights.sort_values(ascending=False).head(6).plot.bar()"
   ]
  },
  {
   "cell_type": "markdown",
   "metadata": {},
   "source": [
    "Contrast this to the results of a regression. Because the model is in fact very true (i.e. we really did construct the manager's returns out of the building blocks), the results are remarkably accurate. However, the negative coefficients are hard to intepret and in real-life data, those will be much larger. However when it works well, such as in this artificial example here, the results can be very accurate."
   ]
  },
  {
   "cell_type": "code",
   "execution_count": 6,
   "metadata": {},
   "outputs": [
    {
     "data": {
      "text/plain": [
       "Hshld   -3.454557\n",
       "Steel   -2.279649\n",
       "Chems   -2.003106\n",
       "Oil     -1.485098\n",
       "Meals   -1.411059\n",
       "dtype: float64"
      ]
     },
     "execution_count": 6,
     "metadata": {},
     "output_type": "execute_result"
    }
   ],
   "source": [
    "coeffs = erk.regress(mgr_r, ind).params*100\n",
    "coeffs.sort_values().head()"
   ]
  },
  {
   "cell_type": "markdown",
   "metadata": {},
   "source": [
    "Negative 4.5% in Household?"
   ]
  },
  {
   "cell_type": "code",
   "execution_count": 7,
   "metadata": {},
   "outputs": [
    {
     "data": {
      "text/plain": [
       "<matplotlib.axes._subplots.AxesSubplot at 0x7fcec1e664a8>"
      ]
     },
     "execution_count": 7,
     "metadata": {},
     "output_type": "execute_result"
    },
    {
     "data": {
      "image/png": "[encoded data removed]",
      "text/plain": [
       "<Figure size 432x288 with 1 Axes>"
      ]
     },
     "metadata": {
      "needs_background": "light"
     },
     "output_type": "display_data"
    }
   ],
   "source": [
    "coeffs.sort_values(ascending=False).head(6).plot.bar()"
   ]
  },
  {
   "cell_type": "markdown",
   "metadata": {},
   "source": [
    "## Style Drift: Time Varying Exposures using Style Anaylsis\n",
    "\n",
    "One of the most common ways in which Sharpe Style Analysis can be used is to measure style drift. If you run the style analysis function over a rolling window of 1 to 5 years, you can extract changes in the style exposures of a manager.\n",
    "\n",
    "We'll look at Rolling Windows in the next lab session.\n",
    "\n",
    "As an exercise to the student, download a set of returns from Yahoo Finance, and try and measure the style drift in your favorite fund manager. Use reliable Value and Growth ETFs such as \"SPYG\" and \"SPYV\" along with a SmallCap ETF such as \"SLY\" and LargeCap ETF such as \"OEF\".\n",
    "\n",
    "Alternately, the Fama-French research factors and use the Top and Bottom portfolios by Value (HML) and Size (SMB) to categorize mutual funds into categories. This is very similar to the \"Style Box\" methodology employed by Morningstar and displayed on their website. Compare your results with their results to see if they agree!"
   ]
  },
  {
   "cell_type": "markdown",
   "metadata": {},
   "source": [
    "# Warning: Potential Misuse of Style Analysis\n",
    "\n",
    "Style Analysis works best when the explanatory indices are in fact a good specification of what is happening. For instance, it usually gives you very useful and revealing insight if you use a stock market index (such as SPY) and other broad indices, ETFs or mutual funds (such as a Value Fund, a Growth Fund, an International Fund, a Bond Fund etc).\n",
    "\n",
    "Part of the skill in extracting meaningful results is to pick the right set of explanatory variables.\n",
    "\n",
    "However, a part of the challenge with Style Analysis is that it will _always_ return a portfolio. Although it is possible to develop a figure of merit of fit quality similar to an $R^2$, it will still always give you an answer, however unreasonable it might be, and it's not always obvious how much one can rely on the result.\n",
    "\n",
    "For instance, we can try and extract the major industries that Buffer invested in since 2000 as follows:"
   ]
  },
  {
   "cell_type": "code",
   "execution_count": 8,
   "metadata": {},
   "outputs": [],
   "source": [
    "brka_m = pd.read_csv(\"brka_m.csv\", index_col=0, parse_dates=True).to_period('M')"
   ]
  },
  {
   "cell_type": "code",
   "execution_count": 9,
   "metadata": {},
   "outputs": [
    {
     "data": {
      "text/plain": [
       "Food     41.35\n",
       "Fin      17.61\n",
       "Meals    12.11\n",
       "Other    11.03\n",
       "Util      7.19\n",
       "Clths     5.99\n",
       "dtype: float64"
      ]
     },
     "execution_count": 9,
     "metadata": {},
     "output_type": "execute_result"
    }
   ],
   "source": [
    "mgr_r_b = brka_m[\"2000\":][\"BRKA\"]\n",
    "weights_b = erk.style_analysis(mgr_r_b, ind)\n",
    "weights_b.sort_values(ascending=False).head(6).round(4)*100"
   ]
  },
  {
   "cell_type": "markdown",
   "metadata": {},
   "source": [
    "If we want to look at the last decade (2009-2018):"
   ]
  },
  {
   "cell_type": "code",
   "execution_count": 10,
   "metadata": {},
   "outputs": [
    {
     "data": {
      "text/plain": [
       "Other    43.64\n",
       "Food     28.33\n",
       "Hlth     22.72\n",
       "Rtail     5.25\n",
       "Meals     0.07\n",
       "Books     0.00\n",
       "dtype: float64"
      ]
     },
     "execution_count": 10,
     "metadata": {},
     "output_type": "execute_result"
    }
   ],
   "source": [
    "brk2009 = brka_m[\"2009\":][\"BRKA\"]\n",
    "ind2009 = ind[\"2009\":]\n",
    "erk.style_analysis(brk2009, ind2009).sort_values(ascending=False).head(6).round(4)*100"
   ]
  },
  {
   "cell_type": "markdown",
   "metadata": {},
   "source": [
    "Should you believe the analysis? Probably not. However, when the specification is in fact accurate (as we saw in the articially generated series) the results can be very revealing"
   ]
  },
  {
   "cell_type": "code",
   "execution_count": null,
   "metadata": {},
   "outputs": [],
   "source": []
  }
 ],
 "metadata": {
  "kernelspec": {
   "display_name": "Python 3",
   "language": "python",
   "name": "python3"
  },
  "language_info": {
   "codemirror_mode": {
    "name": "ipython",
    "version": 3
   },
   "file_extension": ".py",
   "mimetype": "text/x-python",
   "name": "python",
   "nbconvert_exporter": "python",
   "pygments_lexer": "ipython3",
   "version": "3.10.2"
  }
 },
 "nbformat": 4,
 "nbformat_minor": 2
}
